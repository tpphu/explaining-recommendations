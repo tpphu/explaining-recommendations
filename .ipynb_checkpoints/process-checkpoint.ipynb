{
 "cells": [
  {
   "cell_type": "code",
   "execution_count": 13,
   "id": "f4120594-df6f-4843-9765-518eb2f741d2",
   "metadata": {},
   "outputs": [],
   "source": [
    "import pandas as pd\n",
    "import os\n",
    "\n",
    "# Tải dữ liệu\n",
    "ratings = pd.read_csv(\"raw/ratings.csv\")\n",
    "\n",
    "# Lấy dữ liệu training (80% đầu tiên theo timestamp)\n",
    "training_data = ratings.sample(frac=0.001, random_state=42)\n",
    "training_data = training_data[['userId', 'movieId', 'rating']]\n",
    "training_data.to_csv('data/training', sep='\\t', index=False, header=['user_id', 'item_id', 'rating'])\n"
   ]
  },
  {
   "cell_type": "code",
   "execution_count": 14,
   "id": "baf5e78a-93bc-49de-b142-93338021a993",
   "metadata": {},
   "outputs": [],
   "source": [
    "# Lấy dữ liệu test (20% còn lại)\n",
    "test_data = ratings.drop(training_data.index)\n",
    "test_data = test_data.sample(frac=0.001, random_state=42) \n",
    "test_data = test_data[['userId', 'movieId', 'rating']]\n",
    "test_data.to_csv('data/test', sep='\\t', index=False, header=['user_id', 'item_id', 'rating'])\n"
   ]
  },
  {
   "cell_type": "code",
   "execution_count": 4,
   "id": "a8737ded-1bf7-47bc-89dc-c08b307750a2",
   "metadata": {},
   "outputs": [],
   "source": [
    "# Tải thông tin phim\n",
    "movies = pd.read_csv(\"raw/movies.csv\")\n",
    "\n",
    "# Tách các thể loại (genres)\n",
    "movie_features = movies[['movieId', 'genres','title']].rename(columns={'movieId': 'item_id', 'genres': 'feature','title': 'value'})\n",
    "movie_features.to_csv('data/item_features', sep='\\t', index=False, header=True)\n"
   ]
  }
 ],
 "metadata": {
  "kernelspec": {
   "display_name": "Python 3 (ipykernel)",
   "language": "python",
   "name": "python3"
  },
  "language_info": {
   "codemirror_mode": {
    "name": "ipython",
    "version": 3
   },
   "file_extension": ".py",
   "mimetype": "text/x-python",
   "name": "python",
   "nbconvert_exporter": "python",
   "pygments_lexer": "ipython3",
   "version": "3.7.4"
  }
 },
 "nbformat": 4,
 "nbformat_minor": 5
}
